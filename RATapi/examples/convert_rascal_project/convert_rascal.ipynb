{
 "cells": [
  {
   "cell_type": "markdown",
   "metadata": {},
   "source": [
    "### RasCAL-1 to RAT\n",
    "\n",
    "RasCAL-1 (R1) project structs can be converted to RAT Project classes, and vice versa. This is done via the functions `r1_to_project_class` and `project_class_to_r1`.\n",
    "\n",
    "Converting from R1 to a `Project` is very simple. We use the example R1 project in the file `R1monolayerVolumeModel.mat`, which is a project for analysing a monolayer of DSPC with various deuterations (tail-deuterated, head-deuterated, fully deuterated, hydrogenated)"
   ]
  },
  {
   "cell_type": "markdown",
   "metadata": {},
   "source": [
    "Simply give the file path to the function `r1_to_project_class`, and it returns a RAT `Project` that you can use exactly like any other."
   ]
  },
  {
   "cell_type": "code",
   "execution_count": null,
   "metadata": {},
   "outputs": [],
   "source": [
    "from RATapi.utils.convert import r1_to_project_class\n",
    "\n",
    "project = r1_to_project_class(\"R1monolayerVolumeModel.mat\")\n",
    "print(project)"
   ]
  },
  {
   "cell_type": "markdown",
   "metadata": {},
   "source": [
    "Note that there are various features of RAT which do not feature in RasCAL-1, such as `prior_type`, `mu` and `sigma` for parameters. These are given sensible default values (again e.g. for parameters, `prior_type = uniform`, `mu = 0.0`, `sigma=inf`), but you may change these if you would like to use these new features:"
   ]
  },
  {
   "cell_type": "code",
   "execution_count": null,
   "metadata": {},
   "outputs": [],
   "source": [
    "project.parameters[\"Head Thickness\"].prior_type = 'gaussian'\n",
    "project.parameters[\"Theta\"].mu = 2.0\n",
    "project.parameters[\"Area per molecule\"].sigma = 50.0\n",
    "# etc...\n",
    "print(project.parameters)"
   ]
  },
  {
   "cell_type": "markdown",
   "metadata": {},
   "source": [
    "Also note that any custom files must be available to RAT. By default, RAT will assume these files are in the same directory that you are running RAT from, but if they are elsewhere you may change the relevant file location: "
   ]
  },
  {
   "cell_type": "code",
   "execution_count": null,
   "metadata": {},
   "outputs": [],
   "source": [
    "# e.g. if our model is in the directory `my_models/`\n",
    "project.custom_files[0].filename = \"my_models/Model_IIb.m\""
   ]
  },
  {
   "cell_type": "markdown",
   "metadata": {},
   "source": [
    "As well as MATLAB functions, RAT can also run custom files provided in Python or C++ format. This may be beneficial if you do not have access to MATLAB, do not have access to the custom files from your old RasCAL project, or find it more convenient to use Python. This is done similarly to changing the file path: if we have a function defined in the Python custom file `Model_IIb.py`:"
   ]
  },
  {
   "cell_type": "code",
   "execution_count": null,
   "metadata": {},
   "outputs": [],
   "source": [
    "project.custom_files[0].filename = \"Model_IIb.py\"\n",
    "project.custom_files[0].language = 'python'"
   ]
  },
  {
   "cell_type": "markdown",
   "metadata": {},
   "source": [
    "### RAT to RasCAL-1\n",
    "\n",
    "To demonstrate the other way around, we will use the DSPC lipid bilayer model project from another tutorial."
   ]
  },
  {
   "cell_type": "code",
   "execution_count": null,
   "metadata": {},
   "outputs": [],
   "source": [
    "from RATapi.examples import DSPC_standard_layers\n",
    "lipid_bilayer_project = DSPC_standard_layers()[0]\n",
    "print(lipid_bilayer_project)"
   ]
  },
  {
   "cell_type": "markdown",
   "metadata": {},
   "source": [
    "`project_class_to_r1` takes parameters `project` and `filename`, which are the `Project` object and filename for the produced .mat file respectively. This .mat file can then be loaded into RasCAL-1.\n",
    "\n",
    "Alternatively, if one sets `return_struct=True`, the struct is returned as a Python dictionary instead of being saved.\n",
    "\n",
    "Note that a MATLAB engine is used to save the project to a .mat file, so the Python library `matlabengine` must be installed."
   ]
  },
  {
   "cell_type": "code",
   "execution_count": null,
   "metadata": {},
   "outputs": [],
   "source": [
    "from RATapi.utils.convert import project_class_to_r1\n",
    "from pprint import pp  # for printing the struct\n",
    "\n",
    "# save to a file called lipid_bilayer.mat\n",
    "project_class_to_r1(lipid_bilayer_project, filename=\"lipid_bilayer.mat\")\n",
    "\n",
    "# return as a Python dictionary\n",
    "struct = project_class_to_r1(lipid_bilayer_project, return_struct=True)\n",
    "pp(struct)"
   ]
  }
 ],
 "metadata": {
  "kernelspec": {
   "display_name": "Python 3 (ipykernel)",
   "language": "python",
   "name": "python3"
  },
  "language_info": {
   "codemirror_mode": {
    "name": "ipython",
    "version": 3
   },
   "file_extension": ".py",
   "mimetype": "text/x-python",
   "name": "python",
   "nbconvert_exporter": "python",
   "pygments_lexer": "ipython3",
   "version": "3.10.12"
  }
 },
 "nbformat": 4,
 "nbformat_minor": 4
}
