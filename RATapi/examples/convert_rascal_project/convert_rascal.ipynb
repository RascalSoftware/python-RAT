{
 "cells": [
  {
   "cell_type": "markdown",
   "metadata": {},
   "source": [
    "# Convert between RasCAL1 and RAT"
   ]
  },
  {
   "cell_type": "markdown",
   "metadata": {},
   "source": [
    "RasCAL1 project structs can be converted to RAT `Project` classes, and vice versa.\n",
    "This is done via the functions `r1_to_project_class` and `project_class_to_r1`.\n",
    "\n",
    "Converting from R1 to a `Project` is very simple. We use the example R1 project in the file `R1monolayerVolumeModel.mat`:"
   ]
  },
  {
   "cell_type": "code",
   "execution_count": null,
   "metadata": {},
   "outputs": [],
   "source": [
    "from RATapi.utils.convert import r1_to_project_class\n",
    "\n",
    "project = r1_to_project_class(\"R1monolayerVolumeModel.mat\")\n",
    "print(project)"
   ]
  },
  {
   "cell_type": "markdown",
   "metadata": {},
   "source": [
    "To demonstrate the other way around, we will use the DSPC lipid bilayer model project from another tutorial."
   ]
  },
  {
   "cell_type": "code",
   "execution_count": null,
   "metadata": {},
   "outputs": [],
   "source": [
    "from RATapi.examples import DSPC_standard_layers\n",
    "lipid_bilayer_project = DSPC_standard_layers()[0]\n",
    "print(lipid_bilayer_project)"
   ]
  },
  {
   "cell_type": "markdown",
   "metadata": {},
   "source": [
    "`project_class_to_r1` takes two parameters: `project` and `filename`, which are the `Project` object and filename for the produced .mat file respectively. This .mat file can then be loaded into RasCAL-1.\n",
    "\n",
    "Alternatively, if one sets `filename=\"\"`, the R1 struct will be returned as a Python dictionary instead.\n",
    "\n",
    "Note that a MATLAB engine is used to save the project to a .mat file, so the Python library `matlabengine` must be installed."
   ]
  },
  {
   "cell_type": "code",
   "execution_count": null,
   "metadata": {},
   "outputs": [],
   "source": [
    "from RATapi.utils.convert import project_class_to_r1\n",
    "from pprint import pp  # for printing the struct\n",
    "# save to a file called lipid_bilayer.mat\n",
    "project_class_to_r1(lipid_bilayer_project, filename=\"lipid_bilayer.mat\")\n",
    "\n",
    "# return as a Python dictionary\n",
    "struct = project_class_to_r1(lipid_bilayer_project, filename=\"\")\n",
    "pp(struct)"
   ]
  }
 ],
 "metadata": {
  "kernelspec": {
   "display_name": ".venv",
   "language": "python",
   "name": "python3"
  },
  "language_info": {
   "codemirror_mode": {
    "name": "ipython",
    "version": 3
   },
   "file_extension": ".py",
   "mimetype": "text/x-python",
   "name": "python",
   "nbconvert_exporter": "python",
   "pygments_lexer": "ipython3",
   "version": "3.10.12"
  }
 },
 "nbformat": 4,
 "nbformat_minor": 2
}
