{
 "cells": [
  {
   "cell_type": "code",
   "execution_count": null,
   "metadata": {},
   "outputs": [],
   "source": [
    "import pathlib\n",
    "from IPython.display import Code\n",
    "\n",
    "import RATapi as RAT"
   ]
  },
  {
   "attachments": {},
   "cell_type": "markdown",
   "metadata": {},
   "source": [
    "[NEED IMAGES HERE]\n",
    "\n",
    "# Analysing Domains Samples Using Custom Layers Models\n",
    "\n",
    "For custom models, all the work with calculating the reflectivity from the different domains is done within the custom model itself. To do this, there is an additional input into the custom model file which denotes the domain to be calculated:\n",
    "\n",
    "The final 'domain' input is always either 1 or 2 [IS IT??? We have to resolve this satisfactorily], denoting which domain is being calculated. Then, within the custom model, we can calculate the layers structure for whichever domain structure is required in this pass through the function:\n",
    "\n",
    "We will make a simple example of a permalloy layer on silicon, which has spin up and spin down domains, each with different SLDs\n",
    "\n",
    "We start by setting up the project:\n"
   ]
  },
  {
   "cell_type": "code",
   "execution_count": null,
   "metadata": {},
   "outputs": [],
   "source": [
    "problem = RAT.Project(calculation=\"domains\", model=\"custom layers\", geometry=\"substrate/liquid\")\n",
    "\n",
    "# Make some parameters\n",
    "problem.parameters.append(name=\"Alloy Thickness\", min=100.0, value=150.0, max=200.0, fit=True)\n",
    "problem.parameters.append(name=\"Alloy SLD up\", min=9.0e-6, value=11.0e-6, max=13.0e-6, fit=True)\n",
    "problem.parameters.append(name=\"Alloy SLD down\", min=5.0e-6, value=7.0e-6, max=10.0e-6, fit=True)\n",
    "problem.parameters.append(name=\"Alloy Roughness\", min=5.0, value=7.0, max=11.0, fit=True)\n",
    "problem.parameters.append(name=\"Gold Thickness\", min=100.0, value=150.0, max=200.0, fit=True)\n",
    "problem.parameters.append(name=\"Gold SLD\", min=4.0e-6, value=4.5e-6, max=5.0e-6, fit=True)\n",
    "problem.parameters.append(name=\"Gold Roughness\", min=5.0, value=7.0, max=11.0, fit=True)\n",
    "\n",
    "# Set the bulk SLD\n",
    "problem.bulk_in.set_fields(0, name=\"Silicon\", value=2.073e-6, max=1.0)\n",
    "\n",
    "# Add the custom file\n",
    "problem.custom_files.append(name=\"Alloy domains\", filename=\"alloy_domains.py\", language=\"python\", path=pathlib.Path.cwd().resolve(),\n",
    ")\n",
    "\n",
    "# Make a contrast\n",
    "problem.contrasts.append(\n",
    "    name=\"D2O Contrast\",\n",
    "    data=\"Simulation\",\n",
    "    background=\"Background 1\",\n",
    "    bulk_in=\"Silicon\",\n",
    "    bulk_out=\"SLD D2O\",\n",
    "    scalefactor=\"Scalefactor 1\",\n",
    "    resolution=\"Resolution 1\",\n",
    "    resample=False,\n",
    "    domain_ratio=\"Domain Ratio 1\",\n",
    "    model=[\"Alloy domains\"],\n",
    ")\n",
    "\n",
    "print(problem)"
   ]
  },
  {
   "cell_type": "markdown",
   "metadata": {},
   "source": [
    "In the project, we are using a custom function which we have called 'alloy_domains':"
   ]
  },
  {
   "cell_type": "code",
   "execution_count": null,
   "metadata": {},
   "outputs": [],
   "source": [
    "Code(\"alloy_domains.py\")"
   ]
  },
  {
   "cell_type": "markdown",
   "metadata": {},
   "source": [
    "Note that the main difference between this and a 'normal' custom function is the extra 'domain' input, which we then use to select which domain we compute using the 'if / else' instruction at the end of the function\n",
    "\n",
    "To run this, we make a controls block as usual, and send it to RAT."
   ]
  },
  {
   "cell_type": "code",
   "execution_count": null,
   "metadata": {},
   "outputs": [],
   "source": [
    "controls = RAT.Controls()\n",
    "problem, results = RAT.run(problem, controls)\n",
    "\n",
    "RAT.plotting.plot_ref_sld(problem, results)"
   ]
  }
 ],
 "metadata": {
  "kernelspec": {
   "display_name": "Python 3 (ipykernel)",
   "language": "python",
   "name": "python3"
  },
  "language_info": {
   "codemirror_mode": {
    "name": "ipython",
    "version": 3
   },
   "file_extension": ".py",
   "mimetype": "text/x-python",
   "name": "python",
   "nbconvert_exporter": "python",
   "pygments_lexer": "ipython3",
   "version": "3.10.12"
  }
 },
 "nbformat": 4,
 "nbformat_minor": 4
}
