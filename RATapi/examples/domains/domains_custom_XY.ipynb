{
 "cells": [
  {
   "cell_type": "code",
   "execution_count": null,
   "metadata": {},
   "outputs": [],
   "source": [
    "import pathlib\n",
    "from IPython.display import Code\n",
    "\n",
    "import RATapi as RAT\n",
    "from RATapi.models import Parameter"
   ]
  },
  {
   "cell_type": "markdown",
   "metadata": {},
   "source": [
    "# Simple example of a layer containing domains using a custom XY model\n",
    "\n",
    "Domains custom XY models operate in the same way as domains custom layer models, in that there is an additional input to the custom model specifying the domain to be calculated:\n",
    "\n",
    "This is then used within the function to calculate the correct SLD profile for each contrast and domain. In this example, we simulate a hydrogenated layer on a silicon substrate, containing domains of a larger SLD, against D2O, SMW and water.\n",
    "\n",
    "Start by making the project and adding the parameters:"
   ]
  },
  {
   "cell_type": "code",
   "execution_count": null,
   "metadata": {},
   "outputs": [],
   "source": [
    "problem = RAT.Project(calculation=\"domains\", model=\"custom xy\", geometry=\"substrate/liquid\")\n",
    "\n",
    "parameter_list = [\n",
    "    Parameter(name=\"Oxide Thickness\", min=10.0, value=20.0, max=50.0, fit=True),\n",
    "    Parameter(name=\"Layer Thickness\", min=1.0, value=30.0, max=500.0, fit=True),\n",
    "    Parameter(name=\"Layer SLD\", min=-0.5e-6, value=-0.5e-6, max=0.0, fit=True),\n",
    "    Parameter(name=\"Layer Roughness\", min=2.0, value=5.0, max=7.0, fit=True),\n",
    "    Parameter(name=\"Domain SLD\", min=1.0e-6, value=1.0e-6, max=5.0e-6, fit=True)\n",
    "]\n",
    "\n",
    "problem.parameters.extend(parameter_list)"
   ]
  },
  {
   "cell_type": "markdown",
   "metadata": {},
   "source": [
    "Now set the SLDs of the bulk phases for our samples."
   ]
  },
  {
   "cell_type": "code",
   "execution_count": null,
   "metadata": {},
   "outputs": [],
   "source": [
    "problem.bulk_in.set_fields(0, name=\"Silicon\", value=2.073e-6, max=1.0, fit=False)\n",
    "\n",
    "problem.bulk_out.append(name=\"SLD SMW\", min=2.0e-6, value=2.073e-6, max=2.1e-6)\n",
    "problem.bulk_out.append(name=\"SLD H2O\", min=-0.6e-6, value=-0.56e-6, max=-0.5e-6)\n",
    "\n",
    "problem.scalefactors.set_fields(0, min=0.8, value=1.0, max=1.1, fit=True)"
   ]
  },
  {
   "cell_type": "markdown",
   "metadata": {},
   "source": [
    "The custom file takes the parameters and build the model as usual, changing the SLD of the layer depending on whether we are calculating the layer (domain = 0), or the domain (domain = 1)."
   ]
  },
  {
   "cell_type": "code",
   "execution_count": null,
   "metadata": {},
   "outputs": [],
   "source": [
    "Code(\"domains_XY_model.py\")"
   ]
  },
  {
   "cell_type": "markdown",
   "metadata": {},
   "source": [
    "Finally, add the custom file to the project, and make our three contrasts."
   ]
  },
  {
   "cell_type": "code",
   "execution_count": null,
   "metadata": {},
   "outputs": [],
   "source": [
    "problem.custom_files.append(name=\"Domain Layer\", filename=\"domains_XY_model.py\", language=\"python\", path=pathlib.Path.cwd().resolve())\n",
    "\n",
    "# Make contrasts\n",
    "problem.contrasts.append(\n",
    "    name=\"D2O\",\n",
    "    background=\"Background 1\",\n",
    "    resolution=\"Resolution 1\",\n",
    "    scalefactor=\"Scalefactor 1\",\n",
    "    bulk_in=\"Silicon\",\n",
    "    bulk_out=\"SLD D2O\",\n",
    "    domain_ratio=\"Domain Ratio 1\",\n",
    "    data=\"Simulation\",\n",
    "    model=[\"Domain Layer\"],\n",
    ")\n",
    "\n",
    "problem.contrasts.append(\n",
    "    name=\"SMW\",\n",
    "    background=\"Background 1\",\n",
    "    resolution=\"Resolution 1\",\n",
    "    scalefactor=\"Scalefactor 1\",\n",
    "    bulk_in=\"Silicon\",\n",
    "    bulk_out=\"SLD SMW\",\n",
    "    domain_ratio=\"Domain Ratio 1\",\n",
    "    data=\"Simulation\",\n",
    "    model=[\"Domain Layer\"],\n",
    ")\n",
    "\n",
    "problem.contrasts.append(\n",
    "    name=\"H2O\",\n",
    "    background=\"Background 1\",\n",
    "    resolution=\"Resolution 1\",\n",
    "    scalefactor=\"Scalefactor 1\",\n",
    "    bulk_in=\"Silicon\",\n",
    "    bulk_out=\"SLD H2O\",\n",
    "    domain_ratio=\"Domain Ratio 1\",\n",
    "    data=\"Simulation\",\n",
    "    model=[\"Domain Layer\"],\n",
    ")"
   ]
  },
  {
   "cell_type": "markdown",
   "metadata": {},
   "source": [
    "Finally, run the simulation and plot the results."
   ]
  },
  {
   "cell_type": "code",
   "execution_count": null,
   "metadata": {},
   "outputs": [],
   "source": [
    "controls = RAT.Controls()\n",
    "problem, results = RAT.run(problem, controls)\n",
    "\n",
    "RAT.plotting.plot_ref_sld(problem, results)"
   ]
  }
 ],
 "metadata": {
  "kernelspec": {
   "display_name": "Python 3 (ipykernel)",
   "language": "python",
   "name": "python3"
  },
  "language_info": {
   "codemirror_mode": {
    "name": "ipython",
    "version": 3
   },
   "file_extension": ".py",
   "mimetype": "text/x-python",
   "name": "python",
   "nbconvert_exporter": "python",
   "pygments_lexer": "ipython3",
   "version": "3.10.12"
  }
 },
 "nbformat": 4,
 "nbformat_minor": 4
}
